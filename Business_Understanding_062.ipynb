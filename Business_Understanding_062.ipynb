{
  "nbformat": 4,
  "nbformat_minor": 0,
  "metadata": {
    "colab": {
      "provenance": []
    },
    "kernelspec": {
      "name": "python3",
      "display_name": "Python 3"
    },
    "language_info": {
      "name": "python"
    }
  },
  "cells": [
    {
      "cell_type": "markdown",
      "source": [
        "**BUSINESS UNDERSTANDING**"
      ],
      "metadata": {
        "id": "ZZ6inuYRy4XN"
      }
    },
    {
      "cell_type": "markdown",
      "source": [
        "BUSINESS OBJECTIVE\n",
        "\n",
        "Tujuan utama dari proyek ini adalah untuk meningkatkan kesehatan ibu di daerah pedesaan Bangladesh dengan menggunakan teknologi berbasis IoT untuk memantau risiko kesehatan ibu hamil secara real-time. Tujuan bisnis ini berkaitan dengan dampak jangka panjang dan pencapaian secara finansial, sosial, dan operasional dari penerapan teknologi pemantauan risiko kesehatan ibu.\n",
        "\n"
      ],
      "metadata": {
        "id": "c7Js3uJ7zDJ1"
      }
    },
    {
      "cell_type": "markdown",
      "source": [
        "ASSESS SITUATION\n",
        "\n",
        "Tujuan analitik berfokus pada pemahaman data yang ada, penerapan analisis untuk mendeteksi faktor risiko, serta membuat keputusan berbasis data yang mendukung keputusan klinis. Di banyak daerah pedesaan di Bangladesh, ada keterbatasan akses internet dan teknologi. Meskipun demikian, penggunaan ponsel pintar dan perangkat IoT yang lebih sederhana semakin meningkat, yang memberikan peluang untuk mengembangkan solusi berbasis teknologi. Data yang ada meliputi variabel penting seperti usia, tekanan darah sistolik dan diastolik, gula darah, suhu tubuh, denyut jantung, dan tingkat risiko yang telah dikumpulkan dari rumah sakit dan klinik di daerah pedesaan.\n"
      ],
      "metadata": {
        "id": "alB6-9Gy0CpG"
      }
    },
    {
      "cell_type": "markdown",
      "source": [
        "DATA MINING GOALS\n",
        "\n",
        "Menilai situasi melibatkan pemahaman kondisi saat ini, tantangan yang ada, dan potensi untuk menerapkan solusi berbasis IoT di daerah pedesaan. Dapat menggunakan data kesehatan yang terkumpul untuk mengidentifikasi pola-pola risiko yang dapat mempengaruhi kesehatan ibu hamil, seperti hipertensi, diabetes gestasional, atau infeksi."
      ],
      "metadata": {
        "id": "ajZTLNRw0wVO"
      }
    },
    {
      "cell_type": "markdown",
      "source": [
        "PROJECT PLAN\n",
        "\n",
        "Perencanaan proyek bertujuan untuk menyusun langkah-langkah konkret yang harus diambil untuk mengimplementasikan sistem pemantauan risiko kesehatan ibu berbasis IoT. Dengan cara melakukan penelitian dan pengembangan data, pengembangan teknologi IoT, Pilot Projecr, Peluncuran penuh dan penyuluhan,  pemantauan dan evaluasi,penyusunan laporan dan pengukuran dampak.\n",
        "\n",
        "Dengan langkah-langkah yang jelas dan tujuan yang terukur, proyek ini dapat memberikan dampak yang signifikan dalam menurunkan angka kematian ibu di daerah pedesaan Bangladesh dan dapat disesuaikan untuk diterapkan di wilayah lain yang membutuhkan solusi serupa."
      ],
      "metadata": {
        "id": "FwBmfunX0_IH"
      }
    }
  ]
}